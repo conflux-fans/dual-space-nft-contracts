{
 "cells": [
  {
   "cell_type": "code",
   "execution_count": 1,
   "metadata": {},
   "outputs": [],
   "source": [
    "from conflux_web3 import Web3 as ConfluxWeb3\n",
    "from web3 import Web3\n",
    "from web3.middleware.signing import construct_sign_and_send_raw_middleware\n",
    "\n",
    "import os, json, dotenv\n",
    "from typing import Any, TypedDict\n",
    "\n",
    "dotenv.load_dotenv()\n",
    "\n",
    "\n",
    "def get_sk() -> str:\n",
    "    return os.environ[\"SECRET_KEY\"]\n",
    "\n",
    "\n",
    "def get_e_web3() -> Web3:\n",
    "    return Web3(Web3.HTTPProvider(os.environ[\"EVM_URL\"]))\n",
    "\n",
    "\n",
    "def get_c_web3() -> ConfluxWeb3:\n",
    "    return ConfluxWeb3(ConfluxWeb3.HTTPProvider(os.environ[\"CORE_URL\"]))\n",
    "\n",
    "\n",
    "class Metadata(TypedDict):\n",
    "    abi: Any\n",
    "    bytecode: Any\n",
    "\n",
    "\n",
    "def get_metadata(name: str) -> Metadata:\n",
    "    with open(f\"build/contracts/{name}.json\") as f:\n",
    "        d = json.load(f)\n",
    "        return {\n",
    "            \"abi\": d[\"abi\"],\n",
    "            \"bytecode\": d[\"bytecode\"]\n",
    "        }\n",
    "\n",
    "c_web3 = get_c_web3()\n",
    "e_web3 = get_e_web3()\n",
    "c_web3.cfx.default_account = c_web3.account.from_key(get_sk())\n",
    "e_account = e_web3.eth.account.from_key(get_sk())\n",
    "e_web3.middleware_onion.add(construct_sign_and_send_raw_middleware(e_account))\n",
    "e_web3.eth.default_account = e_account.address\n",
    "\n",
    "csc_address = c_web3.cfx.contract(name=\"CrossSpaceCall\").address\n",
    "sponsor_whitelist_control = c_web3.cfx.contract(name=\"SponsorWhitelistControl\", with_deployment_info=True)\n",
    "name = os.environ[\"CORE_CONTRACT_NAME\"]\n",
    "symbol = os.environ[\"CORE_CONTRACT_SYMBOL\"]\n",
    "default_oracle_life = int(os.environ[\"DEFAULT_ORACLE_LIFE\"])\n",
    "\n",
    "DualSpaceNFTCore = c_web3.cfx.contract(**get_metadata(\"DualSpaceNFTCore\"))\n",
    "DualSpaceNFTEvm = e_web3.eth.contract(**get_metadata(\"DualSpaceNFTEvm\"))\n",
    "DeploymentProxyCore = c_web3.cfx.contract(**get_metadata(\"DeploymentProxy\"))\n",
    "DeploymentProxyEvm = e_web3.eth.contract(**get_metadata(\"DeploymentProxy\"))\n",
    "espace_chain_id = e_web3.eth.chain_id"
   ]
  },
  {
   "cell_type": "code",
   "execution_count": 2,
   "metadata": {},
   "outputs": [
    {
     "name": "stdout",
     "output_type": "stream",
     "text": [
      "deploying...\n",
      "core contract impl deployed at cfx:acff58p0z6mtcy6vt0crjgtsvgtvkh92568gc1rwzn\n",
      "core contract proxy deployed at CFX:TYPE.CONTRACT:ACD97PBHXM11CEGRZ3ANUUVCUJ9J0NH956A108F5CC\n",
      "evm contract impl deployed at 0x634757eFE5DD3D27ecf38480c6F2Eac6752E90DB\n"
     ]
    },
    {
     "ename": "ValueError",
     "evalue": "{'code': -32000, 'message': 'allowed qps exceeded: Too many requests (exceeds 50), try again after 56ms'}",
     "output_type": "error",
     "traceback": [
      "\u001b[0;31m---------------------------------------------------------------------------\u001b[0m",
      "\u001b[0;31mValueError\u001b[0m                                Traceback (most recent call last)",
      "Cell \u001b[0;32mIn[2], line 11\u001b[0m\n\u001b[1;32m      7\u001b[0m evm_impl_addr \u001b[39m=\u001b[39m e_web3\u001b[39m.\u001b[39meth\u001b[39m.\u001b[39mwait_for_transaction_receipt(DualSpaceNFTEvm\u001b[39m.\u001b[39mconstructor()\u001b[39m.\u001b[39mtransact({\n\u001b[1;32m      8\u001b[0m     \u001b[39m\"\u001b[39m\u001b[39mgasPrice\u001b[39m\u001b[39m\"\u001b[39m: \u001b[39m2\u001b[39m \u001b[39m*\u001b[39m \u001b[39m10\u001b[39m \u001b[39m*\u001b[39m\u001b[39m*\u001b[39m\u001b[39m10\u001b[39m\n\u001b[1;32m      9\u001b[0m }))[\u001b[39m\"\u001b[39m\u001b[39mcontractAddress\u001b[39m\u001b[39m\"\u001b[39m]\n\u001b[1;32m     10\u001b[0m \u001b[39mprint\u001b[39m(\u001b[39mf\u001b[39m\u001b[39m\"\u001b[39m\u001b[39mevm contract impl deployed at \u001b[39m\u001b[39m{\u001b[39;00mevm_impl_addr\u001b[39m}\u001b[39;00m\u001b[39m\"\u001b[39m)\n\u001b[0;32m---> 11\u001b[0m evm_contract \u001b[39m=\u001b[39m DualSpaceNFTEvm(e_web3\u001b[39m.\u001b[39;49meth\u001b[39m.\u001b[39;49mwait_for_transaction_receipt(DeploymentProxyEvm\u001b[39m.\u001b[39;49mconstructor(evm_impl_addr, \u001b[39m\"\u001b[39;49m\u001b[39m0x\u001b[39;49m\u001b[39m\"\u001b[39;49m)\u001b[39m.\u001b[39;49mtransact({\n\u001b[1;32m     12\u001b[0m     \u001b[39m\"\u001b[39;49m\u001b[39mgasPrice\u001b[39;49m\u001b[39m\"\u001b[39;49m: \u001b[39m2\u001b[39;49m \u001b[39m*\u001b[39;49m \u001b[39m10\u001b[39;49m \u001b[39m*\u001b[39;49m\u001b[39m*\u001b[39;49m\u001b[39m10\u001b[39;49m\n\u001b[1;32m     13\u001b[0m }))[\u001b[39m\"\u001b[39m\u001b[39mcontractAddress\u001b[39m\u001b[39m\"\u001b[39m])\n\u001b[1;32m     14\u001b[0m \u001b[39mprint\u001b[39m(\u001b[39mf\u001b[39m\u001b[39m\"\u001b[39m\u001b[39mevm contract proxy deployed at \u001b[39m\u001b[39m{\u001b[39;00mevm_contract\u001b[39m.\u001b[39maddress\u001b[39m}\u001b[39;00m\u001b[39m\"\u001b[39m)\n\u001b[1;32m     16\u001b[0m \u001b[39mprint\u001b[39m(\u001b[39m\"\u001b[39m\u001b[39minitializing contracts...\u001b[39m\u001b[39m\"\u001b[39m)\n",
      "File \u001b[0;32m~/miniconda3/envs/sdk/lib/python3.8/site-packages/web3/eth/eth.py:468\u001b[0m, in \u001b[0;36mEth.wait_for_transaction_receipt\u001b[0;34m(self, transaction_hash, timeout, poll_latency)\u001b[0m\n\u001b[1;32m    466\u001b[0m \u001b[39mwhile\u001b[39;00m \u001b[39mTrue\u001b[39;00m:\n\u001b[1;32m    467\u001b[0m     \u001b[39mtry\u001b[39;00m:\n\u001b[0;32m--> 468\u001b[0m         tx_receipt \u001b[39m=\u001b[39m \u001b[39mself\u001b[39;49m\u001b[39m.\u001b[39;49m_transaction_receipt(transaction_hash)\n\u001b[1;32m    469\u001b[0m     \u001b[39mexcept\u001b[39;00m TransactionNotFound:\n\u001b[1;32m    470\u001b[0m         tx_receipt \u001b[39m=\u001b[39m \u001b[39mNone\u001b[39;00m\n",
      "File \u001b[0;32m~/miniconda3/envs/sdk/lib/python3.8/site-packages/web3/module.py:68\u001b[0m, in \u001b[0;36mretrieve_blocking_method_call_fn.<locals>.caller\u001b[0;34m(*args, **kwargs)\u001b[0m\n\u001b[1;32m     62\u001b[0m     \u001b[39mreturn\u001b[39;00m LogFilter(eth_module\u001b[39m=\u001b[39mmodule, filter_id\u001b[39m=\u001b[39merr\u001b[39m.\u001b[39mfilter_id)\n\u001b[1;32m     63\u001b[0m (\n\u001b[1;32m     64\u001b[0m     result_formatters,\n\u001b[1;32m     65\u001b[0m     error_formatters,\n\u001b[1;32m     66\u001b[0m     null_result_formatters,\n\u001b[1;32m     67\u001b[0m ) \u001b[39m=\u001b[39m response_formatters\n\u001b[0;32m---> 68\u001b[0m result \u001b[39m=\u001b[39m w3\u001b[39m.\u001b[39;49mmanager\u001b[39m.\u001b[39;49mrequest_blocking(\n\u001b[1;32m     69\u001b[0m     method_str, params, error_formatters, null_result_formatters\n\u001b[1;32m     70\u001b[0m )\n\u001b[1;32m     71\u001b[0m \u001b[39mreturn\u001b[39;00m apply_result_formatters(result_formatters, result)\n",
      "File \u001b[0;32m~/miniconda3/envs/sdk/lib/python3.8/site-packages/web3/manager.py:232\u001b[0m, in \u001b[0;36mRequestManager.request_blocking\u001b[0;34m(self, method, params, error_formatters, null_result_formatters)\u001b[0m\n\u001b[1;32m    228\u001b[0m \u001b[39m\u001b[39m\u001b[39m\"\"\"\u001b[39;00m\n\u001b[1;32m    229\u001b[0m \u001b[39mMake a synchronous request using the provider\u001b[39;00m\n\u001b[1;32m    230\u001b[0m \u001b[39m\"\"\"\u001b[39;00m\n\u001b[1;32m    231\u001b[0m response \u001b[39m=\u001b[39m \u001b[39mself\u001b[39m\u001b[39m.\u001b[39m_make_request(method, params)\n\u001b[0;32m--> 232\u001b[0m \u001b[39mreturn\u001b[39;00m \u001b[39mself\u001b[39;49m\u001b[39m.\u001b[39;49mformatted_response(\n\u001b[1;32m    233\u001b[0m     response, params, error_formatters, null_result_formatters\n\u001b[1;32m    234\u001b[0m )\n",
      "File \u001b[0;32m~/miniconda3/envs/sdk/lib/python3.8/site-packages/web3/manager.py:205\u001b[0m, in \u001b[0;36mRequestManager.formatted_response\u001b[0;34m(response, params, error_formatters, null_result_formatters)\u001b[0m\n\u001b[1;32m    203\u001b[0m         \u001b[39mif\u001b[39;00m resp_code \u001b[39m==\u001b[39m \u001b[39m-\u001b[39m\u001b[39m32601\u001b[39m:\n\u001b[1;32m    204\u001b[0m             \u001b[39mraise\u001b[39;00m MethodUnavailable(response[\u001b[39m\"\u001b[39m\u001b[39merror\u001b[39m\u001b[39m\"\u001b[39m])\n\u001b[0;32m--> 205\u001b[0m     \u001b[39mraise\u001b[39;00m \u001b[39mValueError\u001b[39;00m(response[\u001b[39m\"\u001b[39m\u001b[39merror\u001b[39m\u001b[39m\"\u001b[39m])\n\u001b[1;32m    206\u001b[0m \u001b[39m# NULL_RESPONSES includes None, so return False here as the default\u001b[39;00m\n\u001b[1;32m    207\u001b[0m \u001b[39m# so we don't apply the null_result_formatters if there is no 'result' key\u001b[39;00m\n\u001b[1;32m    208\u001b[0m \u001b[39melif\u001b[39;00m response\u001b[39m.\u001b[39mget(\u001b[39m\"\u001b[39m\u001b[39mresult\u001b[39m\u001b[39m\"\u001b[39m, \u001b[39mFalse\u001b[39;00m) \u001b[39min\u001b[39;00m NULL_RESPONSES:\n\u001b[1;32m    209\u001b[0m     \u001b[39m# null_result_formatters raise either a BlockNotFound\u001b[39;00m\n\u001b[1;32m    210\u001b[0m     \u001b[39m# or a TransactionNotFound error, depending on the method called\u001b[39;00m\n",
      "\u001b[0;31mValueError\u001b[0m: {'code': -32000, 'message': 'allowed qps exceeded: Too many requests (exceeds 50), try again after 56ms'}"
     ]
    }
   ],
   "source": [
    "print(f\"deploying...\")\n",
    "core_impl_addr = DualSpaceNFTCore.constructor().transact().executed()[\"contractCreated\"]\n",
    "print(f\"core contract impl deployed at {core_impl_addr}\")\n",
    "core_contract = DualSpaceNFTCore(DeploymentProxyCore.constructor(core_impl_addr, \"0x\").transact().executed()[\"contractCreated\"])\n",
    "print(f\"core contract proxy deployed at {core_contract.address}\")\n",
    "\n",
    "evm_impl_addr = e_web3.eth.wait_for_transaction_receipt(DualSpaceNFTEvm.constructor().transact({\n",
    "    \"gasPrice\": 2 * 10 **10\n",
    "}))[\"contractAddress\"]\n",
    "print(f\"evm contract impl deployed at {evm_impl_addr}\")\n",
    "evm_contract = DualSpaceNFTEvm(e_web3.eth.wait_for_transaction_receipt(DeploymentProxyEvm.constructor(evm_impl_addr, \"0x\").transact({\n",
    "    \"gasPrice\": 2 * 10 **10\n",
    "}))[\"contractAddress\"])\n",
    "print(f\"evm contract proxy deployed at {evm_contract.address}\")\n"
   ]
  },
  {
   "cell_type": "code",
   "execution_count": 4,
   "metadata": {},
   "outputs": [],
   "source": [
    "evm_contract = DualSpaceNFTEvm(\"0x500371e7Ec0B5BCA911A11964300E694bb0FEc9D\")"
   ]
  },
  {
   "cell_type": "code",
   "execution_count": 5,
   "metadata": {},
   "outputs": [
    {
     "name": "stdout",
     "output_type": "stream",
     "text": [
      "initializing contracts...\n"
     ]
    },
    {
     "data": {
      "text/plain": [
       "AttributeDict({'transactionHash': HexBytes('0x02c71566ef37021a0272013ba8e4833b90291b5ae738524e4cd746fc96420516'),\n",
       " 'index': 0,\n",
       " 'blockHash': HexBytes('0x03130a25dff42b5cec7e34896aa3940670344f2bfda8099dbfccc3593be9bda2'),\n",
       " 'epochNumber': 78330471,\n",
       " 'from': 'cfx:aanthezva9vuyrpsmb15sf9xt97f8vduky1k1vwka5',\n",
       " 'to': 'cfx:acd97pbhxm11cegrz3anuuvcuj9j0nh956a108f5cc',\n",
       " 'gasUsed': 118764,\n",
       " 'gasFee': 118764000000000 Drip,\n",
       " 'contractCreated': None,\n",
       " 'logs': [AttributeDict({'address': 'cfx:acd97pbhxm11cegrz3anuuvcuj9j0nh956a108f5cc',\n",
       "   'topics': [HexBytes('0x8be0079c531659141344cd1fd0a4f28419497f9722a3daafe3b4186f6b6457e0'),\n",
       "    HexBytes('0x0000000000000000000000000000000000000000000000000000000000000000'),\n",
       "    HexBytes('0x00000000000000000000000016f392b107e30a358e506fb717f37ffa5f44704d')],\n",
       "   'data': HexBytes('0x')}),\n",
       "  AttributeDict({'address': 'cfx:acd97pbhxm11cegrz3anuuvcuj9j0nh956a108f5cc',\n",
       "   'topics': [HexBytes('0x7f26b83ff96e1f2b6a682f133852f6798a09c465da95921460cefb3847402498')],\n",
       "   'data': HexBytes('0x0000000000000000000000000000000000000000000000000000000000000001')})],\n",
       " 'logsBloom': HexBytes('0x00000000000000000000000000000000000000000000000000800000000000000000000000000000000000000000000000000000000000000000000000000000000000000000000000000000000000000001000000000000000000000000000000000000020000000000000000000800000000000000000000000000000000400000000000000000000000000000000000000000000080000000000000400000000000000000000000000000000400000000000000000000000000000000000000000000000000000000000000040400000000000200000000000000000022000000000000000000000000000000000000000000004020000000000000000000'),\n",
       " 'stateRoot': HexBytes('0x1a575cd64700e435a73637bef6adb1c845952b3b1f6b5fde6bda5b0afb16a5c6'),\n",
       " 'outcomeStatus': 0,\n",
       " 'txExecErrorMsg': None,\n",
       " 'gasCoveredBySponsor': False,\n",
       " 'storageCoveredBySponsor': False,\n",
       " 'storageCollateralized': 896,\n",
       " 'storageReleased': []})"
      ]
     },
     "execution_count": 5,
     "metadata": {},
     "output_type": "execute_result"
    }
   ],
   "source": [
    "\n",
    "print(\"initializing contracts...\")\n",
    "mapped_address = c_web3.address.calculate_mapped_evm_space_address(core_contract.address)\n",
    "evm_contract.functions.initialize(\n",
    "    name, symbol, mapped_address\n",
    ").transact({\n",
    "    \"gasPrice\": 2 * 10 **10\n",
    "})\n",
    "core_contract.functions.initialize(\n",
    "    name, symbol, evm_contract.address, csc_address, espace_chain_id, default_oracle_life\n",
    ").transact().executed()"
   ]
  },
  {
   "cell_type": "code",
   "execution_count": 6,
   "metadata": {},
   "outputs": [
    {
     "name": "stdout",
     "output_type": "stream",
     "text": [
      "setting sponsor...\n"
     ]
    },
    {
     "data": {
      "text/plain": [
       "AttributeDict({'transactionHash': HexBytes('0x86c3fb0d0fef26e652f408a84fbaeffea26f45462679a1ad159eb0b41b0c9967'),\n",
       " 'index': 0,\n",
       " 'blockHash': HexBytes('0xde9213a4528c7f3be60e0d40a1ffaae25462e84ce611ffde3ef1945c0847c8c1'),\n",
       " 'epochNumber': 78330590,\n",
       " 'from': 'cfx:aanthezva9vuyrpsmb15sf9xt97f8vduky1k1vwka5',\n",
       " 'to': 'cfx:aaejuaaaaaaaaaaaaaaaaaaaaaaaaaaaaegg2r16ar',\n",
       " 'gasUsed': 33128,\n",
       " 'gasFee': 33128000000000 Drip,\n",
       " 'contractCreated': None,\n",
       " 'logs': [],\n",
       " 'logsBloom': HexBytes('0x00000000000000000000000000000000000000000000000000000000000000000000000000000000000000000000000000000000000000000000000000000000000000000000000000000000000000000000000000000000000000000000000000000000000000000000000000000000000000000000000000000000000000000000000000000000000000000000000000000000000000000000000000000000000000000000000000000000000000000000000000000000000000000000000000000000000000000000000000000000000000000000000000000000000000000000000000000000000000000000000000000000000000000000000000000000'),\n",
       " 'stateRoot': HexBytes('0x43caaaffd6b5b63254cd8c63b4dc52eeb56e55542e63a649ddd521fe5a42ed88'),\n",
       " 'outcomeStatus': 0,\n",
       " 'txExecErrorMsg': None,\n",
       " 'gasCoveredBySponsor': False,\n",
       " 'storageCoveredBySponsor': False,\n",
       " 'storageCollateralized': 0,\n",
       " 'storageReleased': []})"
      ]
     },
     "execution_count": 6,
     "metadata": {},
     "output_type": "execute_result"
    }
   ],
   "source": [
    "print(\"setting sponsor...\")\n",
    "sponsor_whitelist_control.functions.addPrivilegeByAdmin(core_contract.address, [c_web3.address.zero_address()]).transact().executed()\n",
    "sponsor_whitelist_control.functions.setSponsorForCollateral(core_contract.address).transact({\n",
    "    \"value\": 2 * 10**19\n",
    "}).executed()\n",
    "sponsor_whitelist_control.functions.setSponsorForGas(core_contract.address, 10**16).transact({\n",
    "    \"value\": 10**19\n",
    "}).executed()\n"
   ]
  },
  {
   "cell_type": "code",
   "execution_count": 9,
   "metadata": {},
   "outputs": [
    {
     "data": {
      "text/plain": [
       "AttributeDict({'transactionHash': HexBytes('0x649fd1658e1b8201ad96ec75e3b334f36f807e1ead39ffb4dd85ebeb77f6a23c'),\n",
       " 'index': 0,\n",
       " 'blockHash': HexBytes('0xe7af5ce423332af6ee2e61b0144d1952de7fe515381cc818bcc3e3bd54a71f6b'),\n",
       " 'epochNumber': 78331859,\n",
       " 'from': 'cfx:aanthezva9vuyrpsmb15sf9xt97f8vduky1k1vwka5',\n",
       " 'to': 'cfx:acd97pbhxm11cegrz3anuuvcuj9j0nh956a108f5cc',\n",
       " 'gasUsed': 178494,\n",
       " 'gasFee': 849799000000000 Drip,\n",
       " 'contractCreated': None,\n",
       " 'logs': [AttributeDict({'address': 'cfx:aaejuaaaaaaaaaaaaaaaaaaaaaaaaaaaa2sn102vjv',\n",
       "   'topics': [HexBytes('0x124d1efd3ac32fa6aadb7a06e066c113471e0411fb56a5079cedbc3cdf7796e4'),\n",
       "    HexBytes('0x94195a79a8ce9ddd108ae2985e9f3cf99ced7842000000000000000000000000'),\n",
       "    HexBytes('0x500371e7ec0b5bca911a11964300e694bb0fec9d000000000000000000000000')],\n",
       "   'data': HexBytes('0x0000000000000000000000000000000000000000000000000000000000000000000000000000000000000000000000000000000000000000000000000000000000000000000000000000000000000000000000000000000000000000000000600000000000000000000000000000000000000000000000000000000000000044692b344a000000000000000000000000000000000000000000000000000000000134b101000000000000000000000000000000000000000000000000000000000000000800000000000000000000000000000000000000000000000000000000')}),\n",
       "  AttributeDict({'address': 'cfx:aaejuaaaaaaaaaaaaaaaaaaaaaaaaaaaa2sn102vjv',\n",
       "   'topics': [HexBytes('0xbc11eabb6efd378a0a489b58a574c6e0d0403060e8a8c7b8eab45db47900edfe')],\n",
       "   'data': HexBytes('0x0000000000000000000000000000000000000000000000000000000000000001')}),\n",
       "  AttributeDict({'address': 'cfx:acd97pbhxm11cegrz3anuuvcuj9j0nh956a108f5cc',\n",
       "   'topics': [HexBytes('0xe1a8324d5d6991eac78ec12a728b17f656563de76ae56c7b54488a29d2de672d')],\n",
       "   'data': HexBytes('0x000000000000000000000000000000000000000000000000000000000b28282e000000000000000000000000000000000000000000000000000000000134b1010000000000000000000000000000000000000000000000000000000000000008')})],\n",
       " 'logsBloom': HexBytes('0x00000000000000020000000000000000000000000000000000000400000000000000000040000000000000000000000000000020020000000000000000000000000000000000200000000000000000000000001000000000000000000000000000000000000000000080000000010002000000000040000000000010000000000001000000000000000000000000100000000000000020000000000000400000000000000040000000000000000000000000000000000000000000000000000000000100000000000000000000000000000000000000000000000000000001000000000400000000000000000000000000000000004228000000000000000000'),\n",
       " 'stateRoot': HexBytes('0x3b2128b250704c725e2d0b64a9ec40b9e19d199f972db5e70dfe9beff77acf5d'),\n",
       " 'outcomeStatus': 0,\n",
       " 'txExecErrorMsg': None,\n",
       " 'gasCoveredBySponsor': True,\n",
       " 'storageCoveredBySponsor': True,\n",
       " 'storageCollateralized': 192,\n",
       " 'storageReleased': []})"
      ]
     },
     "execution_count": 9,
     "metadata": {},
     "output_type": "execute_result"
    }
   ],
   "source": [
    "authorizer = c_web3.cfx.account.create()\n",
    "signer = c_web3.cfx.account.create()\n",
    "core_contract.functions.startBatch(20230401, signer.address, authorizer.address, 8).transact().executed()"
   ]
  },
  {
   "cell_type": "code",
   "execution_count": 18,
   "metadata": {},
   "outputs": [
    {
     "data": {
      "text/plain": [
       "AttributeDict({'transactionHash': HexBytes('0x31f54aebac8f03cc076b9bbe90c625fade36b2d354c68c9164b09bddb6881acc'),\n",
       " 'index': 1,\n",
       " 'blockHash': HexBytes('0x41d609dd8132776917767be3cfc08993096dc2066579a75a6bd929a8611afe8c'),\n",
       " 'epochNumber': 78332758,\n",
       " 'from': 'cfx:aanthezva9vuyrpsmb15sf9xt97f8vduky1k1vwka5',\n",
       " 'to': 'cfx:acd97pbhxm11cegrz3anuuvcuj9j0nh956a108f5cc',\n",
       " 'gasUsed': 126212,\n",
       " 'gasFee': 126212000000000 Drip,\n",
       " 'contractCreated': None,\n",
       " 'logs': [],\n",
       " 'logsBloom': HexBytes('0x00000000000000000000000000000000000000000000000000000000000000000000000000000000000000000000000000000000000000000000000000000000000000000000000000000000000000000000000000000000000000000000000000000000000000000000000000000000000000000000000000000000000000000000000000000000000000000000000000000000000000000000000000000000000000000000000000000000000000000000000000000000000000000000000000000000000000000000000000000000000000000000000000000000000000000000000000000000000000000000000000000000000000000000000000000000'),\n",
       " 'stateRoot': HexBytes('0xa59079304d759b56ec7f5c6cf8fdb6db48f4f980611d44be8f7e8eae2b6710dc'),\n",
       " 'outcomeStatus': 0,\n",
       " 'txExecErrorMsg': None,\n",
       " 'gasCoveredBySponsor': True,\n",
       " 'storageCoveredBySponsor': True,\n",
       " 'storageCollateralized': 768,\n",
       " 'storageReleased': []})"
      ]
     },
     "execution_count": 18,
     "metadata": {},
     "output_type": "execute_result"
    }
   ],
   "source": [
    "c_web3.wallet.add_account(authorizer)\n",
    "core_contract.functions.batchAuthorizeMintPermission(20230401,[\n",
    "    \"crowdin-w33d\", \"crowdin-cyclee\", \"crowdin-jasonyou184\", \"crowdin-louisl.eth\", \"crowdin-effectchen\", \"crowdin-cike\", \"github-Euroanchor\", \"github-atharvadeosthale\", \"github-wanliqun\", \"github-Pana\", \"github-0xn1c0\", \"github-darwintree\"\n",
    "], [5] + [4] * 11).transact().executed()"
   ]
  },
  {
   "cell_type": "code",
   "execution_count": 17,
   "metadata": {},
   "outputs": [
    {
     "data": {
      "text/plain": [
       "<cfx_account.signers.local.LocalAccount at 0x7fb11259f2b0>"
      ]
     },
     "execution_count": 17,
     "metadata": {},
     "output_type": "execute_result"
    }
   ],
   "source": [
    "authorizer"
   ]
  },
  {
   "cell_type": "code",
   "execution_count": null,
   "metadata": {},
   "outputs": [],
   "source": []
  }
 ],
 "metadata": {
  "kernelspec": {
   "display_name": "sdk",
   "language": "python",
   "name": "python3"
  },
  "language_info": {
   "codemirror_mode": {
    "name": "ipython",
    "version": 3
   },
   "file_extension": ".py",
   "mimetype": "text/x-python",
   "name": "python",
   "nbconvert_exporter": "python",
   "pygments_lexer": "ipython3",
   "version": "3.8.18"
  },
  "orig_nbformat": 4
 },
 "nbformat": 4,
 "nbformat_minor": 2
}

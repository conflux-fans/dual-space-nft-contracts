{
 "cells": [
  {
   "cell_type": "code",
   "execution_count": 2,
   "metadata": {},
   "outputs": [
    {
     "name": "stdout",
     "output_type": "stream",
     "text": [
      "deploy admin: cfx:aanthezva9vuyrpsmb15sf9xt97f8vduky1k1vwka5\n"
     ]
    }
   ],
   "source": [
    "from conflux_web3 import Web3 as ConfluxWeb3\n",
    "from web3 import Web3\n",
    "from web3.middleware.signing import construct_sign_and_send_raw_middleware\n",
    "\n",
    "import json, dotenv\n",
    "from typing import Any, TypedDict, assert_type\n",
    "\n",
    "config = dotenv.dotenv_values(\".env.mainnet\")\n",
    "\n",
    "\n",
    "def get_sk() -> str:\n",
    "    return assert_type(config[\"SECRET_KEY\"], str)\n",
    "\n",
    "\n",
    "def get_e_web3() -> Web3:\n",
    "    return Web3(Web3.HTTPProvider(config[\"EVM_URL\"]))\n",
    "\n",
    "\n",
    "def get_c_web3() -> ConfluxWeb3:\n",
    "    return ConfluxWeb3(ConfluxWeb3.HTTPProvider(config[\"CORE_URL\"]))\n",
    "\n",
    "\n",
    "class Metadata(TypedDict):\n",
    "    abi: Any\n",
    "    bytecode: Any\n",
    "\n",
    "\n",
    "def get_metadata(name: str) -> Metadata:\n",
    "    with open(f\"build/contracts/{name}.json\") as f:\n",
    "        d = json.load(f)\n",
    "        return {\n",
    "            \"abi\": d[\"abi\"],\n",
    "            \"bytecode\": d[\"bytecode\"]\n",
    "        }\n",
    "\n",
    "c_web3 = get_c_web3()\n",
    "e_web3 = get_e_web3()\n",
    "c_web3.cfx.default_account = c_web3.account.from_key(get_sk())\n",
    "\n",
    "print(f\"deploy admin: {c_web3.cfx.default_account}\")\n",
    "\n",
    "e_account = e_web3.eth.account.from_key(get_sk())\n",
    "e_web3.middleware_onion.add(construct_sign_and_send_raw_middleware(e_account))\n",
    "e_web3.eth.default_account = e_account.address\n",
    "\n",
    "DualSpaceNFTCore = c_web3.cfx.contract(**get_metadata(\"DualSpaceNFTCore\"))\n",
    "DualSpaceNFTEvm = e_web3.eth.contract(**get_metadata(\"DualSpaceNFTEvm\"))\n",
    "DeploymentProxyCore = c_web3.cfx.contract(**get_metadata(\"DeploymentProxy\"))\n",
    "DeploymentProxyEvm = e_web3.eth.contract(**get_metadata(\"DeploymentProxy\"))\n",
    "espace_chain_id = e_web3.eth.chain_id\n",
    "\n",
    "core_proxy = DualSpaceNFTCore(config[\"CORE_PROXY\"])\n",
    "evm_proxy = DualSpaceNFTEvm(config[\"EVM_PROXY\"])"
   ]
  },
  {
   "cell_type": "code",
   "execution_count": 3,
   "metadata": {},
   "outputs": [
    {
     "name": "stdout",
     "output_type": "stream",
     "text": [
      "deploying new impl...\n",
      "core contract impl deployed at cfx:acg3r2bxh15nw1386f02avvbv7a3tkm1328a007nf2\n",
      "evm contract impl deployed at 0xa56c9DACCCaF10d323Cf56046c766913d5d09EA8\n"
     ]
    }
   ],
   "source": [
    "print(f\"deploying new impl...\")\n",
    "core_impl_addr = DualSpaceNFTCore.constructor().transact().executed()[\"contractCreated\"]\n",
    "print(f\"core contract impl deployed at {core_impl_addr}\")\n",
    "\n",
    "evm_impl_addr = e_web3.eth.wait_for_transaction_receipt(DualSpaceNFTEvm.constructor().transact({\n",
    "    \"gasPrice\": e_web3.eth.gas_price * 2,\n",
    "}))[\"contractAddress\"]\n",
    "print(f\"evm contract impl deployed at {evm_impl_addr}\")\n"
   ]
  },
  {
   "cell_type": "code",
   "execution_count": 4,
   "metadata": {},
   "outputs": [
    {
     "name": "stdout",
     "output_type": "stream",
     "text": [
      "core contract upgrade to cfx:acg3r2bxh15nw1386f02avvbv7a3tkm1328a007nf2\n",
      "evm contract upgrade to 0xa56c9DACCCaF10d323Cf56046c766913d5d09EA8\n"
     ]
    }
   ],
   "source": [
    "core_proxy.functions.upgradeTo(core_impl_addr).transact().executed()\n",
    "print(f\"core contract upgrade to {core_impl_addr}\")\n",
    "\n",
    "core_proxy.functions.upgradeEvmContractTo(evm_impl_addr).transact().executed()\n",
    "print(f\"evm contract upgrade to {evm_impl_addr}\")"
   ]
  }
 ],
 "metadata": {
  "kernelspec": {
   "display_name": "sdk",
   "language": "python",
   "name": "python3"
  },
  "language_info": {
   "codemirror_mode": {
    "name": "ipython",
    "version": 3
   },
   "file_extension": ".py",
   "mimetype": "text/x-python",
   "name": "python",
   "nbconvert_exporter": "python",
   "pygments_lexer": "ipython3",
   "version": "3.11.6"
  },
  "orig_nbformat": 4
 },
 "nbformat": 4,
 "nbformat_minor": 2
}

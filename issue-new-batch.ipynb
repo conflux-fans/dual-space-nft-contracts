{
 "cells": [
  {
   "cell_type": "code",
   "execution_count": 2,
   "metadata": {},
   "outputs": [
    {
     "name": "stdout",
     "output_type": "stream",
     "text": [
      "admin: cfx:aanthezva9vuyrpsmb15sf9xt97f8vduky1k1vwka5\n"
     ]
    }
   ],
   "source": [
    "from conflux_web3 import Web3 as ConfluxWeb3\n",
    "\n",
    "import json, dotenv\n",
    "from typing import Any, TypedDict, cast\n",
    "\n",
    "config = dotenv.dotenv_values(\".env.mainnet\")\n",
    "\n",
    "\n",
    "def get_sk() -> str:\n",
    "    return cast(str, config[\"SECRET_KEY\"])\n",
    "\n",
    "\n",
    "def get_c_web3() -> ConfluxWeb3:\n",
    "    return ConfluxWeb3(ConfluxWeb3.HTTPProvider(config[\"CORE_URL\"]))\n",
    "\n",
    "\n",
    "class Metadata(TypedDict):\n",
    "    abi: Any\n",
    "    bytecode: Any\n",
    "\n",
    "\n",
    "def get_metadata(name: str) -> Metadata:\n",
    "    with open(f\"build/contracts/{name}.json\") as f:\n",
    "        d = json.load(f)\n",
    "        return {\n",
    "            \"abi\": d[\"abi\"],\n",
    "            \"bytecode\": d[\"bytecode\"]\n",
    "        }\n",
    "\n",
    "c_web3 = get_c_web3()\n",
    "c_web3.cfx.default_account = c_web3.account.from_key(get_sk())\n",
    "\n",
    "print(f\"admin: {c_web3.cfx.default_account}\")\n",
    "\n",
    "DualSpaceNFTCore = c_web3.cfx.contract(**get_metadata(\"DualSpaceNFTCore\"))\n",
    "DeploymentProxyCore = c_web3.cfx.contract(**get_metadata(\"DeploymentProxy\"))\n",
    "\n",
    "core_proxy = DualSpaceNFTCore(config[\"CORE_PROXY\"])"
   ]
  },
  {
   "cell_type": "code",
   "execution_count": 6,
   "metadata": {},
   "outputs": [
    {
     "name": "stdout",
     "output_type": "stream",
     "text": [
      "authorizor: cfx:aanc619y2sc6jh6b531y3nj9j9u1w67ugyx5fvggf7\n",
      "oracle signer: cfx:aakz4u1jwp8btum6nwmcepr0wdfadfjsw6kuj0em6g\n"
     ]
    }
   ],
   "source": [
    "new_batch_nbr = 20231001\n",
    "authorizor = c_web3.account.create()\n",
    "oracle_signer = c_web3.account.create()\n",
    "\n",
    "with open(f\"./accounts/{new_batch_nbr}.json\", \"w\") as f:\n",
    "    f.write(json.dumps(\n",
    "        {\n",
    "            \"authorizer\": {\n",
    "                \"sk\": authorizor.key.hex(),\n",
    "                \"address\": authorizor.address\n",
    "            },\n",
    "            \"oracle_signer\": {\n",
    "                \"sk\": oracle_signer.key.hex(),\n",
    "                \"address\": oracle_signer.address\n",
    "            }\n",
    "        }\n",
    "    ))\n",
    "\n",
    "print(f\"authorizor: {authorizor.address}\")\n",
    "print(f\"oracle signer: {oracle_signer.address}\")"
   ]
  },
  {
   "cell_type": "code",
   "execution_count": 7,
   "metadata": {},
   "outputs": [],
   "source": [
    "ratio = 8"
   ]
  },
  {
   "cell_type": "code",
   "execution_count": 8,
   "metadata": {},
   "outputs": [
    {
     "data": {
      "text/plain": [
       "AttributeDict({'transactionHash': HexBytes('0x84450475cf000570fee63e958a48d814c55d528fccc2e6e21418af818412eb55'),\n",
       " 'index': 0,\n",
       " 'blockHash': HexBytes('0xe1a163277b68904e2528d59f37101b7eeedcfebc093381c2e10e29f82b410a83'),\n",
       " 'epochNumber': 87097854,\n",
       " 'from': 'cfx:aanthezva9vuyrpsmb15sf9xt97f8vduky1k1vwka5',\n",
       " 'to': 'cfx:acd97pbhxm11cegrz3anuuvcuj9j0nh956a108f5cc',\n",
       " 'gasUsed': 108558,\n",
       " 'gasFee': 4150560000000000 Drip,\n",
       " 'contractCreated': None,\n",
       " 'logs': [AttributeDict({'address': 'cfx:aaejuaaaaaaaaaaaaaaaaaaaaaaaaaaaa2sn102vjv',\n",
       "   'topics': [HexBytes('0x124d1efd3ac32fa6aadb7a06e066c113471e0411fb56a5079cedbc3cdf7796e4'),\n",
       "    HexBytes('0x94195a79a8ce9ddd108ae2985e9f3cf99ced7842000000000000000000000000'),\n",
       "    HexBytes('0x500371e7ec0b5bca911a11964300e694bb0fec9d000000000000000000000000')],\n",
       "   'data': HexBytes('0x0000000000000000000000000000000000000000000000000000000000000000000000000000000000000000000000000000000000000000000000000000001500000000000000000000000000000000000000000000000000000000000000600000000000000000000000000000000000000000000000000000000000000044692b344a000000000000000000000000000000000000000000000000000000000134b359000000000000000000000000000000000000000000000000000000000000000800000000000000000000000000000000000000000000000000000000')}),\n",
       "  AttributeDict({'address': 'cfx:aaejuaaaaaaaaaaaaaaaaaaaaaaaaaaaa2sn102vjv',\n",
       "   'topics': [HexBytes('0xbc11eabb6efd378a0a489b58a574c6e0d0403060e8a8c7b8eab45db47900edfe')],\n",
       "   'data': HexBytes('0x0000000000000000000000000000000000000000000000000000000000000001')}),\n",
       "  AttributeDict({'address': 'cfx:acd97pbhxm11cegrz3anuuvcuj9j0nh956a108f5cc',\n",
       "   'topics': [HexBytes('0xe1a8324d5d6991eac78ec12a728b17f656563de76ae56c7b54488a29d2de672d')],\n",
       "   'data': HexBytes('0x000000000000000000000000000000000000000000000000000000000c818100000000000000000000000000000000000000000000000000000000000134b3590000000000000000000000000000000000000000000000000000000000000008')})],\n",
       " 'logsBloom': HexBytes('0x00000000000000020000000000000000000000000000000000000400000000000000000040000000000000000000000000000020020000000000000000000000000000000000200000000000000000000000001000000000000000000000000000000000000000000080000000010002000000000040000000000010000000000001000000000000000000000000100000000000000020000000000000400000000000000040000000000000000000000000000000000000000000000000000000000100000000000000000000000000000000000000000000000000000001000000000400000000000000000000000000000000004228000000000000000000'),\n",
       " 'stateRoot': HexBytes('0xae2a1b04c3b594a8d53e59f57a87345ba650d65728709f88781c858132828918'),\n",
       " 'outcomeStatus': 0,\n",
       " 'txExecErrorMsg': None,\n",
       " 'gasCoveredBySponsor': True,\n",
       " 'storageCoveredBySponsor': True,\n",
       " 'storageCollateralized': 0,\n",
       " 'storageReleased': []})"
      ]
     },
     "execution_count": 8,
     "metadata": {},
     "output_type": "execute_result"
    }
   ],
   "source": [
    "core_proxy.functions.startBatch(new_batch_nbr, oracle_signer.address, authorizor.address, ratio).transact().executed()"
   ]
  },
  {
   "cell_type": "code",
   "execution_count": 11,
   "metadata": {},
   "outputs": [],
   "source": [
    "github_contributors = {\n",
    "    2: [\n",
    "        \"Pana\",\n",
    "        \"darwintree\",\n",
    "        \"0xn1c0\",\n",
    "        \"wangdayong228\",\n",
    "        \"MikeDank\",\n",
    "        \"eirikhanasand\",\n",
    "        \"devBlue4\",\n",
    "    ]\n",
    "}\n",
    "\n",
    "crowdin_contributors = {\n",
    "    2: [\n",
    "        \"IqraCrypto\",\n",
    "        \"TCrypto\",\n",
    "    ],\n",
    "    5: [\n",
    "        \"w33d\",\n",
    "        \"devBlue4\",\n",
    "    ]\n",
    "}"
   ]
  },
  {
   "cell_type": "code",
   "execution_count": 14,
   "metadata": {},
   "outputs": [
    {
     "name": "stdout",
     "output_type": "stream",
     "text": [
      "('github-Pana', 2)\n",
      "('github-darwintree', 2)\n",
      "('github-0xn1c0', 2)\n",
      "('github-wangdayong228', 2)\n",
      "('github-MikeDank', 2)\n",
      "('github-eirikhanasand', 2)\n",
      "('github-devBlue4', 2)\n",
      "('crowdin-IqraCrypto', 2)\n",
      "('crowdin-TCrypto', 2)\n",
      "('crowdin-w33d', 5)\n",
      "('crowdin-devBlue4', 5)\n"
     ]
    }
   ],
   "source": [
    "qualified = {}\n",
    "for r in github_contributors:\n",
    "    for u in github_contributors[r]:\n",
    "        qualified[f\"github-{u}\"] = r\n",
    "for r in crowdin_contributors:\n",
    "    for u in crowdin_contributors[r]:\n",
    "        qualified[f\"crowdin-{u}\"] = r\n",
    "for i in qualified.items():\n",
    "    print(i)"
   ]
  },
  {
   "cell_type": "code",
   "execution_count": 16,
   "metadata": {},
   "outputs": [
    {
     "data": {
      "text/plain": [
       "AttributeDict({'transactionHash': HexBytes('0xc54692236bd15cbf3dc27cf1a02a48a9b537b65ede0103d974503549f209ebd9'),\n",
       " 'index': 0,\n",
       " 'blockHash': HexBytes('0x9aee0b626d9160a3f89871283fc4b12582bf30f20155ec3da6cfd06cdf4d0f10'),\n",
       " 'epochNumber': 87098454,\n",
       " 'from': 'cfx:aanthezva9vuyrpsmb15sf9xt97f8vduky1k1vwka5',\n",
       " 'to': 'cfx:acd97pbhxm11cegrz3anuuvcuj9j0nh956a108f5cc',\n",
       " 'gasUsed': 117976,\n",
       " 'gasFee': 2359520000000000 Drip,\n",
       " 'contractCreated': None,\n",
       " 'logs': [],\n",
       " 'logsBloom': HexBytes('0x00000000000000000000000000000000000000000000000000000000000000000000000000000000000000000000000000000000000000000000000000000000000000000000000000000000000000000000000000000000000000000000000000000000000000000000000000000000000000000000000000000000000000000000000000000000000000000000000000000000000000000000000000000000000000000000000000000000000000000000000000000000000000000000000000000000000000000000000000000000000000000000000000000000000000000000000000000000000000000000000000000000000000000000000000000000'),\n",
       " 'stateRoot': HexBytes('0x5e12e29cf4968d8618b0036ee590dcb37c2b401455314016fa9cee5a642241bc'),\n",
       " 'outcomeStatus': 0,\n",
       " 'txExecErrorMsg': None,\n",
       " 'gasCoveredBySponsor': True,\n",
       " 'storageCoveredBySponsor': True,\n",
       " 'storageCollateralized': 704,\n",
       " 'storageReleased': []})"
      ]
     },
     "execution_count": 16,
     "metadata": {},
     "output_type": "execute_result"
    }
   ],
   "source": [
    "usernames = []\n",
    "rarities = []\n",
    "for pair in qualified.items():\n",
    "    usernames.append(pair[0])\n",
    "    rarities.append(pair[1])\n",
    "\n",
    "core_proxy.functions.batchAuthorizeMintPermission(new_batch_nbr, usernames, rarities).transact().executed()"
   ]
  },
  {
   "cell_type": "code",
   "execution_count": 20,
   "metadata": {},
   "outputs": [],
   "source": [
    "c_web3.middleware_onion.remove(\"CacheMiddleware\")\n"
   ]
  },
  {
   "cell_type": "code",
   "execution_count": 25,
   "metadata": {},
   "outputs": [
    {
     "data": {
      "text/plain": [
       "'cfx:aaaaaaaaaaaaaaaaaaaaaaaaaaaaaaaaaa0sfbnjm2'"
      ]
     },
     "execution_count": 25,
     "metadata": {},
     "output_type": "execute_result"
    }
   ],
   "source": [
    "c_web3.address.zero_address()"
   ]
  },
  {
   "cell_type": "code",
   "execution_count": 24,
   "metadata": {},
   "outputs": [
    {
     "data": {
      "text/plain": [
       "20000000000 Drip"
      ]
     },
     "execution_count": 24,
     "metadata": {},
     "output_type": "execute_result"
    }
   ],
   "source": [
    "\n",
    "\n",
    "c_web3.cfx.gas_price"
   ]
  },
  {
   "cell_type": "code",
   "execution_count": 17,
   "metadata": {},
   "outputs": [
    {
     "data": {
      "text/plain": [
       "AttributeDict({'transactionHash': HexBytes('0x15b7e5bfd84f82aea0920b3a5b4db1baf0cfe1b7606aed18d992e1115a66789c'),\n",
       " 'index': 0,\n",
       " 'blockHash': HexBytes('0x6949a9e64b564ed07963f2477944bdf5276c8cd426b695f4c22e5192f3c36235'),\n",
       " 'epochNumber': 87099428,\n",
       " 'from': 'cfx:aanthezva9vuyrpsmb15sf9xt97f8vduky1k1vwka5',\n",
       " 'to': 'cfx:aaejuaaaaaaaaaaaaaaaaaaaaaaaaaaaaegg2r16ar',\n",
       " 'gasUsed': 32680,\n",
       " 'gasFee': 653600000000000 Drip,\n",
       " 'contractCreated': None,\n",
       " 'logs': [],\n",
       " 'logsBloom': HexBytes('0x00000000000000000000000000000000000000000000000000000000000000000000000000000000000000000000000000000000000000000000000000000000000000000000000000000000000000000000000000000000000000000000000000000000000000000000000000000000000000000000000000000000000000000000000000000000000000000000000000000000000000000000000000000000000000000000000000000000000000000000000000000000000000000000000000000000000000000000000000000000000000000000000000000000000000000000000000000000000000000000000000000000000000000000000000000000'),\n",
       " 'stateRoot': HexBytes('0x47b06be66344f5088513e9bd734883e9f46dec277d18699820631a040eb25810'),\n",
       " 'outcomeStatus': 0,\n",
       " 'txExecErrorMsg': None,\n",
       " 'gasCoveredBySponsor': False,\n",
       " 'storageCoveredBySponsor': False,\n",
       " 'storageCollateralized': 0,\n",
       " 'storageReleased': []})"
      ]
     },
     "execution_count": 17,
     "metadata": {},
     "output_type": "execute_result"
    }
   ],
   "source": [
    "sponsor_whitelist_control = c_web3.cfx.contract(name=\"SponsorWhitelistControl\", with_deployment_info=True)\n",
    "sponsor_whitelist_control.functions.setSponsorForCollateral(core_proxy.address).transact({\n",
    "    \"value\": 2 * 10**19,\n",
    "}).executed()"
   ]
  }
 ],
 "metadata": {
  "kernelspec": {
   "display_name": "sdk",
   "language": "python",
   "name": "python3"
  },
  "language_info": {
   "codemirror_mode": {
    "name": "ipython",
    "version": 3
   },
   "file_extension": ".py",
   "mimetype": "text/x-python",
   "name": "python",
   "nbconvert_exporter": "python",
   "pygments_lexer": "ipython3",
   "version": "3.8.18"
  },
  "orig_nbformat": 4
 },
 "nbformat": 4,
 "nbformat_minor": 2
}
